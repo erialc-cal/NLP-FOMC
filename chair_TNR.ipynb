{
 "cells": [
  {
   "cell_type": "markdown",
   "id": "1d02206d-c0ec-48cc-a504-5a7e9f9613af",
   "metadata": {},
   "source": [
    "# Chair analysis for novelty, transience and resonance"
   ]
  },
  {
   "cell_type": "markdown",
   "id": "bc733eef-4b62-4588-8dc0-7f8b57108392",
   "metadata": {},
   "source": [
    "**Problématique** : Avoir une mesure de la qualité de la délibération\n",
    "\n",
    "\n",
    "- Est-ce que parler plus apporte plus de nouveauté ? : intervention des speakers par topics de chair\n",
    "- Nouveauté/transience/résonance des topics au sein des chairs par interlocuteur\n"
   ]
  },
  {
   "cell_type": "code",
   "execution_count": 6,
   "id": "024bb669-3821-40ec-8317-d7f4ea2996fa",
   "metadata": {},
   "outputs": [],
   "source": [
    "import pandas as pd\n",
    "import numpy as np\n",
    "import matplotlib.pyplot as plt\n",
    "\n",
    "import os\n",
    "path = os.getcwd()"
   ]
  },
  {
   "cell_type": "code",
   "execution_count": 9,
   "id": "dc496def-c28e-4e1e-9df6-ab4cd5e8a956",
   "metadata": {},
   "outputs": [],
   "source": [
    "df = pd.read_csv(path+'/lem_clean_version_8.csv', low_memory=True)"
   ]
  },
  {
   "cell_type": "code",
   "execution_count": 10,
   "id": "7a1a43e5-4ad2-457f-a02f-4ae6f0d3701e",
   "metadata": {},
   "outputs": [
    {
     "data": {
      "text/html": [
       "<div>\n",
       "<style scoped>\n",
       "    .dataframe tbody tr th:only-of-type {\n",
       "        vertical-align: middle;\n",
       "    }\n",
       "\n",
       "    .dataframe tbody tr th {\n",
       "        vertical-align: top;\n",
       "    }\n",
       "\n",
       "    .dataframe thead th {\n",
       "        text-align: right;\n",
       "    }\n",
       "</style>\n",
       "<table border=\"1\" class=\"dataframe\">\n",
       "  <thead>\n",
       "    <tr style=\"text-align: right;\">\n",
       "      <th></th>\n",
       "      <th>Unnamed: 0</th>\n",
       "      <th>index</th>\n",
       "      <th>Date</th>\n",
       "      <th>interlocutor_name</th>\n",
       "      <th>statement _size</th>\n",
       "      <th>statement</th>\n",
       "      <th>statement_number</th>\n",
       "      <th>chair_in_charge</th>\n",
       "      <th>score_academ</th>\n",
       "      <th>score_hostile</th>\n",
       "      <th>score_econo</th>\n",
       "      <th>score_virtue</th>\n",
       "      <th>score_vice</th>\n",
       "      <th>score_hawkish</th>\n",
       "      <th>score_posi</th>\n",
       "      <th>score_affi</th>\n",
       "      <th>score_uncert</th>\n",
       "      <th>lemmatized</th>\n",
       "    </tr>\n",
       "  </thead>\n",
       "  <tbody>\n",
       "    <tr>\n",
       "      <th>0</th>\n",
       "      <td>0</td>\n",
       "      <td>0</td>\n",
       "      <td>1976-08-17</td>\n",
       "      <td>BURNS</td>\n",
       "      <td>41</td>\n",
       "      <td>ready start meeting morning first item busines...</td>\n",
       "      <td>statement_0</td>\n",
       "      <td>CHAIRMAN BURNS</td>\n",
       "      <td>0.0</td>\n",
       "      <td>0.04878</td>\n",
       "      <td>0.024390</td>\n",
       "      <td>0.048780</td>\n",
       "      <td>0.0</td>\n",
       "      <td>0.0</td>\n",
       "      <td>-1.0</td>\n",
       "      <td>1.0</td>\n",
       "      <td>-0.000000</td>\n",
       "      <td>ready start meeting morning item business act...</td>\n",
       "    </tr>\n",
       "    <tr>\n",
       "      <th>1</th>\n",
       "      <td>1</td>\n",
       "      <td>1</td>\n",
       "      <td>1976-08-17</td>\n",
       "      <td>HOLMES</td>\n",
       "      <td>2</td>\n",
       "      <td>statementsee appendix</td>\n",
       "      <td>statement_1</td>\n",
       "      <td>CHAIRMAN BURNS</td>\n",
       "      <td>0.0</td>\n",
       "      <td>0.00000</td>\n",
       "      <td>0.000000</td>\n",
       "      <td>0.000000</td>\n",
       "      <td>0.0</td>\n",
       "      <td>0.0</td>\n",
       "      <td>0.0</td>\n",
       "      <td>0.0</td>\n",
       "      <td>-0.000000</td>\n",
       "      <td>statementsee appendix</td>\n",
       "    </tr>\n",
       "    <tr>\n",
       "      <th>2</th>\n",
       "      <td>2</td>\n",
       "      <td>2</td>\n",
       "      <td>1976-08-17</td>\n",
       "      <td>BLACK</td>\n",
       "      <td>27</td>\n",
       "      <td>alan think realignment currencies european com...</td>\n",
       "      <td>statement_2</td>\n",
       "      <td>CHAIRMAN BURNS</td>\n",
       "      <td>0.0</td>\n",
       "      <td>0.00000</td>\n",
       "      <td>0.037037</td>\n",
       "      <td>0.037037</td>\n",
       "      <td>0.0</td>\n",
       "      <td>0.0</td>\n",
       "      <td>1.0</td>\n",
       "      <td>1.0</td>\n",
       "      <td>-0.000000</td>\n",
       "      <td>alan think realignment currency european comm...</td>\n",
       "    </tr>\n",
       "    <tr>\n",
       "      <th>3</th>\n",
       "      <td>3</td>\n",
       "      <td>3</td>\n",
       "      <td>1976-08-17</td>\n",
       "      <td>HOLMES</td>\n",
       "      <td>49</td>\n",
       "      <td>two alternatives one everybody goes floats sep...</td>\n",
       "      <td>statement_3</td>\n",
       "      <td>CHAIRMAN BURNS</td>\n",
       "      <td>0.0</td>\n",
       "      <td>0.00000</td>\n",
       "      <td>0.000000</td>\n",
       "      <td>0.000000</td>\n",
       "      <td>0.0</td>\n",
       "      <td>0.0</td>\n",
       "      <td>0.0</td>\n",
       "      <td>-1.0</td>\n",
       "      <td>-0.020408</td>\n",
       "      <td>alternative everybody go float separately sec...</td>\n",
       "    </tr>\n",
       "    <tr>\n",
       "      <th>4</th>\n",
       "      <td>4</td>\n",
       "      <td>4</td>\n",
       "      <td>1976-08-17</td>\n",
       "      <td>BLACK</td>\n",
       "      <td>8</td>\n",
       "      <td>think would likely</td>\n",
       "      <td>statement_4</td>\n",
       "      <td>CHAIRMAN BURNS</td>\n",
       "      <td>0.0</td>\n",
       "      <td>0.00000</td>\n",
       "      <td>0.000000</td>\n",
       "      <td>0.000000</td>\n",
       "      <td>0.0</td>\n",
       "      <td>0.0</td>\n",
       "      <td>0.0</td>\n",
       "      <td>0.0</td>\n",
       "      <td>-0.000000</td>\n",
       "      <td>think likely</td>\n",
       "    </tr>\n",
       "  </tbody>\n",
       "</table>\n",
       "</div>"
      ],
      "text/plain": [
       "   Unnamed: 0  index        Date interlocutor_name  statement _size  \\\n",
       "0           0      0  1976-08-17             BURNS               41   \n",
       "1           1      1  1976-08-17            HOLMES                2   \n",
       "2           2      2  1976-08-17             BLACK               27   \n",
       "3           3      3  1976-08-17            HOLMES               49   \n",
       "4           4      4  1976-08-17             BLACK                8   \n",
       "\n",
       "                                           statement statement_number  \\\n",
       "0  ready start meeting morning first item busines...      statement_0   \n",
       "1                              statementsee appendix      statement_1   \n",
       "2  alan think realignment currencies european com...      statement_2   \n",
       "3  two alternatives one everybody goes floats sep...      statement_3   \n",
       "4                                 think would likely      statement_4   \n",
       "\n",
       "  chair_in_charge  score_academ  score_hostile  score_econo  score_virtue  \\\n",
       "0  CHAIRMAN BURNS           0.0        0.04878     0.024390      0.048780   \n",
       "1  CHAIRMAN BURNS           0.0        0.00000     0.000000      0.000000   \n",
       "2  CHAIRMAN BURNS           0.0        0.00000     0.037037      0.037037   \n",
       "3  CHAIRMAN BURNS           0.0        0.00000     0.000000      0.000000   \n",
       "4  CHAIRMAN BURNS           0.0        0.00000     0.000000      0.000000   \n",
       "\n",
       "   score_vice  score_hawkish  score_posi  score_affi  score_uncert  \\\n",
       "0         0.0            0.0        -1.0         1.0     -0.000000   \n",
       "1         0.0            0.0         0.0         0.0     -0.000000   \n",
       "2         0.0            0.0         1.0         1.0     -0.000000   \n",
       "3         0.0            0.0         0.0        -1.0     -0.020408   \n",
       "4         0.0            0.0         0.0         0.0     -0.000000   \n",
       "\n",
       "                                          lemmatized  \n",
       "0   ready start meeting morning item business act...  \n",
       "1                              statementsee appendix  \n",
       "2   alan think realignment currency european comm...  \n",
       "3   alternative everybody go float separately sec...  \n",
       "4                                       think likely  "
      ]
     },
     "execution_count": 10,
     "metadata": {},
     "output_type": "execute_result"
    }
   ],
   "source": [
    "df.head()"
   ]
  },
  {
   "cell_type": "code",
   "execution_count": 19,
   "id": "ac81f79a-bbc9-404d-9411-ebb805595a13",
   "metadata": {},
   "outputs": [],
   "source": []
  },
  {
   "cell_type": "code",
   "execution_count": 16,
   "id": "ea5ec566-dca6-4afd-bbfa-bf5cd78dac6d",
   "metadata": {},
   "outputs": [
    {
     "data": {
      "text/plain": [
       "((100, 1783), (1783,), (100, 1783))"
      ]
     },
     "execution_count": 16,
     "metadata": {},
     "output_type": "execute_result"
    }
   ],
   "source": []
  },
  {
   "cell_type": "markdown",
   "id": "e311cece-a0a8-4684-bb4e-23086c7946e1",
   "metadata": {},
   "source": [
    "## Novelty, transience and resonance density plots"
   ]
  },
  {
   "cell_type": "code",
   "execution_count": 90,
   "id": "992f10b3-a14a-4ab9-be77-ebbe69c0a475",
   "metadata": {},
   "outputs": [],
   "source": [
    "nb_topic=100\n",
    "scale = 1000 # 7 or 1000\n",
    "example_NTR_path = f\"/Users/h2jw/Documents/GitHub/NLP-FOMC/novelty_transience_resonance/all data/{nb_topic} topics/novel_trans_reson_w{scale}.txt\"\n",
    "dfNTR = pd.read_table(example_NTR_path, sep=' ',\n",
    "                       header=None, names=['Novelty', 'Transience', 'Resonance'])"
   ]
  },
  {
   "cell_type": "code",
   "execution_count": 91,
   "id": "cb9a5e83-147b-4323-82de-326b833d96fb",
   "metadata": {},
   "outputs": [
    {
     "data": {
      "text/html": [
       "<div>\n",
       "<style scoped>\n",
       "    .dataframe tbody tr th:only-of-type {\n",
       "        vertical-align: middle;\n",
       "    }\n",
       "\n",
       "    .dataframe tbody tr th {\n",
       "        vertical-align: top;\n",
       "    }\n",
       "\n",
       "    .dataframe thead th {\n",
       "        text-align: right;\n",
       "    }\n",
       "</style>\n",
       "<table border=\"1\" class=\"dataframe\">\n",
       "  <thead>\n",
       "    <tr style=\"text-align: right;\">\n",
       "      <th></th>\n",
       "      <th>Novelty</th>\n",
       "      <th>Transience</th>\n",
       "      <th>Resonance</th>\n",
       "    </tr>\n",
       "  </thead>\n",
       "  <tbody>\n",
       "    <tr>\n",
       "      <th>0</th>\n",
       "      <td>41.472877</td>\n",
       "      <td>41.944843</td>\n",
       "      <td>-0.471965</td>\n",
       "    </tr>\n",
       "    <tr>\n",
       "      <th>1</th>\n",
       "      <td>49.944565</td>\n",
       "      <td>51.716883</td>\n",
       "      <td>-1.772319</td>\n",
       "    </tr>\n",
       "    <tr>\n",
       "      <th>2</th>\n",
       "      <td>36.940625</td>\n",
       "      <td>43.653206</td>\n",
       "      <td>-6.712581</td>\n",
       "    </tr>\n",
       "    <tr>\n",
       "      <th>3</th>\n",
       "      <td>34.829190</td>\n",
       "      <td>40.916296</td>\n",
       "      <td>-6.087105</td>\n",
       "    </tr>\n",
       "    <tr>\n",
       "      <th>4</th>\n",
       "      <td>40.985453</td>\n",
       "      <td>35.819025</td>\n",
       "      <td>5.166428</td>\n",
       "    </tr>\n",
       "  </tbody>\n",
       "</table>\n",
       "</div>"
      ],
      "text/plain": [
       "     Novelty  Transience  Resonance\n",
       "0  41.472877   41.944843  -0.471965\n",
       "1  49.944565   51.716883  -1.772319\n",
       "2  36.940625   43.653206  -6.712581\n",
       "3  34.829190   40.916296  -6.087105\n",
       "4  40.985453   35.819025   5.166428"
      ]
     },
     "execution_count": 91,
     "metadata": {},
     "output_type": "execute_result"
    }
   ],
   "source": [
    "dfNTR.head()"
   ]
  },
  {
   "cell_type": "code",
   "execution_count": 92,
   "id": "2aff8652-f5bd-40aa-9c5b-97dfb220c8f9",
   "metadata": {},
   "outputs": [
    {
     "data": {
      "image/png": "[encoded data removed]",
      "text/plain": [
       "<Figure size 1440x720 with 4 Axes>"
      ]
     },
     "metadata": {
      "needs_background": "light"
     },
     "output_type": "display_data"
    }
   ],
   "source": [
    "cmap = plt.cm.get_cmap(\"viridis\").copy()\n",
    "cmap.set_under('white')\n",
    "plt.figure(figsize=(20,10))\n",
    "plt.subplot(121)\n",
    "plt.hist2d(dfNTR['Novelty'], dfNTR['Transience'], bins=(50, 50), cmap=cmap, vmin=0.0001)\n",
    "plt.colorbar()\n",
    "plt.plot(dfNTR['Novelty'],dfNTR['Novelty'], color='red')\n",
    "plt.xlabel('Novelty $\\mathcal{N}$')\n",
    "plt.ylabel('Transience $\\mathcal{T}$')\n",
    "plt.title('Novelty v. Transience density plot')\n",
    "m, b = np.polyfit(dfNTR['Novelty'], dfNTR['Transience'], 1)\n",
    "plt.plot(dfNTR['Novelty'],m*dfNTR['Novelty']+b, '--k' )\n",
    "\n",
    "\n",
    "plt.subplot(122)\n",
    "plt.hist2d(dfNTR['Novelty'], dfNTR['Resonance'], bins=(50, 50), cmap=cmap, vmin=0.0001)\n",
    "plt.colorbar() \n",
    "plt.plot(dfNTR['Novelty'],np.zeros(len(dfNTR['Novelty'])), color='red')\n",
    "m, b = np.polyfit(dfNTR['Novelty'], dfNTR['Resonance'], 1)\n",
    "plt.plot(dfNTR['Novelty'],m*dfNTR['Novelty']+b, '--k' )\n",
    "plt.xlabel('Novelty $\\mathcal{N}$')\n",
    "plt.ylabel('Resonance $\\mathcal{R}$')\n",
    "plt.title('Novelty v. Resonance density plot')\n",
    "\n",
    "plt.suptitle(f\"Novelty, transience, resonance density plots on all data with scale {scale}\")\n",
    "plt.savefig(f'all_data_{nb_topic}_{scale}.png')"
   ]
  },
  {
   "cell_type": "code",
   "execution_count": null,
   "id": "e9fbdb68-96fa-45ea-a02b-16ec1f4c1d6c",
   "metadata": {},
   "outputs": [],
   "source": []
  }
 ],
 "metadata": {
  "kernelspec": {
   "display_name": "Python 3 (ipykernel)",
   "language": "python",
   "name": "python3"
  },
  "language_info": {
   "codemirror_mode": {
    "name": "ipython",
    "version": 3
   },
   "file_extension": ".py",
   "mimetype": "text/x-python",
   "name": "python",
   "nbconvert_exporter": "python",
   "pygments_lexer": "ipython3",
   "version": "3.8.11"
  }
 },
 "nbformat": 4,
 "nbformat_minor": 5
}
